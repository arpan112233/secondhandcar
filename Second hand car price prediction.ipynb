{
 "cells": [
  {
   "cell_type": "code",
   "execution_count": 1,
   "metadata": {},
   "outputs": [],
   "source": [
    "import pandas as pd\n",
    "import numpy as np"
   ]
  },
  {
   "cell_type": "code",
   "execution_count": 2,
   "metadata": {},
   "outputs": [
    {
     "data": {
      "text/html": [
       "<div>\n",
       "<style scoped>\n",
       "    .dataframe tbody tr th:only-of-type {\n",
       "        vertical-align: middle;\n",
       "    }\n",
       "\n",
       "    .dataframe tbody tr th {\n",
       "        vertical-align: top;\n",
       "    }\n",
       "\n",
       "    .dataframe thead th {\n",
       "        text-align: right;\n",
       "    }\n",
       "</style>\n",
       "<table border=\"1\" class=\"dataframe\">\n",
       "  <thead>\n",
       "    <tr style=\"text-align: right;\">\n",
       "      <th></th>\n",
       "      <th>name</th>\n",
       "      <th>company</th>\n",
       "      <th>year</th>\n",
       "      <th>Price</th>\n",
       "      <th>kms_driven</th>\n",
       "      <th>fuel_type</th>\n",
       "    </tr>\n",
       "  </thead>\n",
       "  <tbody>\n",
       "    <tr>\n",
       "      <td>0</td>\n",
       "      <td>Hyundai Santro Xing XO eRLX Euro III</td>\n",
       "      <td>Hyundai</td>\n",
       "      <td>2007</td>\n",
       "      <td>80,000</td>\n",
       "      <td>45,000 kms</td>\n",
       "      <td>Petrol</td>\n",
       "    </tr>\n",
       "    <tr>\n",
       "      <td>1</td>\n",
       "      <td>Mahindra Jeep CL550 MDI</td>\n",
       "      <td>Mahindra</td>\n",
       "      <td>2006</td>\n",
       "      <td>4,25,000</td>\n",
       "      <td>40 kms</td>\n",
       "      <td>Diesel</td>\n",
       "    </tr>\n",
       "    <tr>\n",
       "      <td>2</td>\n",
       "      <td>Maruti Suzuki Alto 800 Vxi</td>\n",
       "      <td>Maruti</td>\n",
       "      <td>2018</td>\n",
       "      <td>Ask For Price</td>\n",
       "      <td>22,000 kms</td>\n",
       "      <td>Petrol</td>\n",
       "    </tr>\n",
       "    <tr>\n",
       "      <td>3</td>\n",
       "      <td>Hyundai Grand i10 Magna 1.2 Kappa VTVT</td>\n",
       "      <td>Hyundai</td>\n",
       "      <td>2014</td>\n",
       "      <td>3,25,000</td>\n",
       "      <td>28,000 kms</td>\n",
       "      <td>Petrol</td>\n",
       "    </tr>\n",
       "    <tr>\n",
       "      <td>4</td>\n",
       "      <td>Ford EcoSport Titanium 1.5L TDCi</td>\n",
       "      <td>Ford</td>\n",
       "      <td>2014</td>\n",
       "      <td>5,75,000</td>\n",
       "      <td>36,000 kms</td>\n",
       "      <td>Diesel</td>\n",
       "    </tr>\n",
       "  </tbody>\n",
       "</table>\n",
       "</div>"
      ],
      "text/plain": [
       "                                     name   company  year          Price  \\\n",
       "0    Hyundai Santro Xing XO eRLX Euro III   Hyundai  2007         80,000   \n",
       "1                 Mahindra Jeep CL550 MDI  Mahindra  2006       4,25,000   \n",
       "2              Maruti Suzuki Alto 800 Vxi    Maruti  2018  Ask For Price   \n",
       "3  Hyundai Grand i10 Magna 1.2 Kappa VTVT   Hyundai  2014       3,25,000   \n",
       "4        Ford EcoSport Titanium 1.5L TDCi      Ford  2014       5,75,000   \n",
       "\n",
       "   kms_driven fuel_type  \n",
       "0  45,000 kms    Petrol  \n",
       "1      40 kms    Diesel  \n",
       "2  22,000 kms    Petrol  \n",
       "3  28,000 kms    Petrol  \n",
       "4  36,000 kms    Diesel  "
      ]
     },
     "execution_count": 2,
     "metadata": {},
     "output_type": "execute_result"
    }
   ],
   "source": [
    "# Importing the data set of second hand cars.\n",
    "data = pd.read_csv(r\"C:\\Users\\meera\\Desktop\\Python projects github\\second_hand_cars.csv\")\n",
    "data.head()"
   ]
  },
  {
   "cell_type": "code",
   "execution_count": 3,
   "metadata": {},
   "outputs": [
    {
     "data": {
      "text/plain": [
       "(892, 6)"
      ]
     },
     "execution_count": 3,
     "metadata": {},
     "output_type": "execute_result"
    }
   ],
   "source": [
    "data.shape"
   ]
  },
  {
   "cell_type": "code",
   "execution_count": 4,
   "metadata": {},
   "outputs": [
    {
     "name": "stdout",
     "output_type": "stream",
     "text": [
      "<class 'pandas.core.frame.DataFrame'>\n",
      "RangeIndex: 892 entries, 0 to 891\n",
      "Data columns (total 6 columns):\n",
      "name          892 non-null object\n",
      "company       892 non-null object\n",
      "year          892 non-null object\n",
      "Price         892 non-null object\n",
      "kms_driven    840 non-null object\n",
      "fuel_type     837 non-null object\n",
      "dtypes: object(6)\n",
      "memory usage: 41.9+ KB\n"
     ]
    }
   ],
   "source": [
    "data.info()"
   ]
  },
  {
   "cell_type": "code",
   "execution_count": 5,
   "metadata": {},
   "outputs": [
    {
     "name": "stdout",
     "output_type": "stream",
     "text": [
      "name\n",
      "['Hyundai Santro Xing XO eRLX Euro III' 'Mahindra Jeep CL550 MDI'\n",
      " 'Maruti Suzuki Alto 800 Vxi' 'Hyundai Grand i10 Magna 1.2 Kappa VTVT'\n",
      " 'Ford EcoSport Titanium 1.5L TDCi' 'Ford Figo' 'Hyundai Eon'\n",
      " 'Ford EcoSport Ambiente 1.5L TDCi' 'Maruti Suzuki Alto K10 VXi AMT'\n",
      " 'Skoda Fabia Classic 1.2 MPI' 'Maruti Suzuki Stingray VXi'\n",
      " 'Hyundai Elite i20 Magna 1.2' 'Mahindra Scorpio SLE BS IV' 'Audi A8'\n",
      " 'Audi Q7' 'Mahindra Scorpio S10' 'Maruti Suzuki Alto 800'\n",
      " 'Hyundai i20 Sportz 1.2' 'Maruti Suzuki Alto 800 Lx'\n",
      " 'Maruti Suzuki Vitara Brezza ZDi' 'Maruti Suzuki Alto LX'\n",
      " 'Mahindra Bolero DI' 'Maruti Suzuki Swift Dzire ZDi'\n",
      " 'Mahindra Scorpio S10 4WD' 'Maruti Suzuki Swift Vdi BSIII'\n",
      " 'Maruti Suzuki Wagon R VXi BS III' 'Maruti Suzuki Wagon R VXi Minor'\n",
      " 'Toyota Innova 2.0 G 8 STR BS IV' 'Renault Lodgy 85 PS RXL'\n",
      " 'Skoda Yeti Ambition 2.0 TDI CR 4x2' 'Maruti Suzuki Baleno Delta 1.2'\n",
      " 'Renault Duster 110 PS RxZ Diesel Plus' 'Renault Duster 85 PS RxE Diesel'\n",
      " 'Honda City 1.5 S MT' 'Maruti Suzuki Dzire' 'Honda Amaze'\n",
      " 'Honda Amaze 1.5 SX i DTEC' 'Honda City' 'Datsun Redi GO S'\n",
      " 'Maruti Suzuki SX4 ZXI MT' 'Mitsubishi Pajero Sport Limited Edition'\n",
      " 'Maruti Suzuki Swift VXi 1.2 ABS BS IV' 'Honda City ZX CVT'\n",
      " 'Maruti Suzuki Wagon R LX BS IV' 'Tata Indigo eCS LS CR4 BS IV'\n",
      " 'Volkswagen Polo Highline Exquisite P' 'I want to sell my car Tata Zest'\n",
      " 'Chevrolet Spark LS 1.0' 'Renault Duster 110PS Diesel RxZ'\n",
      " 'Mini Cooper S 1.6' 'Skoda Fabia 1.2L Diesel Ambiente' 'Renault Duster'\n",
      " 'Mahindra Scorpio S4' 'Mahindra Scorpio VLX 2WD BS IV'\n",
      " 'Mahindra Quanto C8' 'Ford EcoSport' 'Honda Brio'\n",
      " 'Volkswagen Vento Highline Plus 1.5 Diesel AT' 'Hyundai i20 Magna'\n",
      " 'Toyota Corolla Altis Diesel D4DG' 'Hyundai Verna Transform SX VTVT'\n",
      " 'Toyota Corolla Altis Petrol Ltd' 'Honda City 1.5 EXi New'\n",
      " 'Skoda Fabia 1.2L Diesel Elegance' 'BMW 3 Series 320i'\n",
      " 'Maruti Suzuki A Star Lxi' 'Toyota Etios GD'\n",
      " 'Ford Figo Diesel EXI Option' 'Maruti Suzuki Swift Dzire VXi 1.2 BS IV'\n",
      " 'Chevrolet Beat LT Diesel' 'BMW 7 Series 740Li Sedan'\n",
      " 'Mahindra XUV500 W8 AWD 2013' 'Hyundai i10 Magna 1.2'\n",
      " 'Hyundai Verna Fluidic New' 'Maruti Suzuki Swift VXi 1.2 BS IV'\n",
      " 'Maruti Suzuki Ertiga ZXI Plus' 'Maruti Suzuki Ertiga Vxi'\n",
      " 'Maruti Suzuki Ertiga VDi' 'Maruti Suzuki Alto LXi BS III'\n",
      " 'Hyundai Grand i10 Asta 1.1 CRDi' 'Honda Amaze 1.2 S i VTEC'\n",
      " 'Hyundai i20 Asta 1.4 CRDI 6 Speed' 'Ford Figo Diesel EXI'\n",
      " 'Maruti Suzuki Eeco 5 STR WITH AC HTR' 'Maruti Suzuki Ertiga ZXi'\n",
      " 'Maruti Suzuki Esteem LXi BS III' 'Maruti Suzuki Ritz VXI'\n",
      " 'Maruti Suzuki Ritz LDi' 'Maruti Suzuki Dzire VDI' 'Toyota Etios Liva G'\n",
      " 'Hyundai i20 Sportz 1.4 CRDI' 'Chevrolet Spark' 'Nissan Micra XV'\n",
      " 'Maruti Suzuki Swift' 'Honda Amaze 1.5 S i DTEC' 'Chevrolet Beat'\n",
      " 'Toyota Corolla' 'Honda City 1.5 V MT' 'Ford EcoSport Trend 1.5L TDCi'\n",
      " 'Hyundai i20 Asta 1.2' 'Tata Indica V2 eLS' 'Maruti Suzuki Alto 800 Lxi'\n",
      " 'Hindustan Motors Ambassador' 'Toyota Corolla Altis 1.8 GL'\n",
      " 'Toyota Corolla Altis 1.8 J' 'Toyota Innova 2.5 GX BS IV 7 STR'\n",
      " 'Volkswagen Jetta Highline TDI AT' 'Volkswagen Polo Comfortline 1.2L P'\n",
      " 'Volkswagen Polo' 'Mahindra Scorpio' 'Nissan Sunny' 'Hyundai Elite i20'\n",
      " 'Renault Kwid' 'Mahindra Scorpio VLX Airbag' 'Chevrolet Spark LT 1.0'\n",
      " 'Datsun Redi GO T O' 'Maruti Suzuki Swift RS VDI'\n",
      " 'Fiat Punto Emotion 1.2' 'Hyundai i10 Sportz 1.2'\n",
      " 'Chevrolet Beat LT Opt Diesel' 'Chevrolet Beat LS Diesel'\n",
      " 'Tata Indigo CS' 'Maruti Suzuki Swift VDi' 'Hyundai Eon Era Plus'\n",
      " 'Mahindra XUV500' 'Ford Fiesta' 'Maruti Suzuki Wagon R' 'Hyundai i20'\n",
      " 'Tata Indigo eCS LX TDI BS III' 'Hyundai Fluidic Verna 1.6 CRDi SX'\n",
      " 'Commercial , DZire LDI, 2016, for sale' 'Fiat Petra ELX 1.2 PS'\n",
      " 'Hyundai Santro Xing XS' 'Maruti Suzuki Ciaz VXi Plus'\n",
      " 'Maruti Suzuki Zen VX' 'Hyundai Creta 1.6 SX Plus Petrol'\n",
      " 'Tata indigo ecs LX, 201' 'Mahindra Scorpio SLX'\n",
      " 'Toyota Innova 2.5 G BS III 8 STR' 'Maruti Suzuki Wagon R LXI BS IV'\n",
      " 'Tata Nano Cx BSIV' 'Maruti Suzuki Alto Std BS IV'\n",
      " 'Maruti Suzuki Wagon R LXi BS III' 'Maruti Suzuki Swift VXI BSIII'\n",
      " 'Tata Sumo Victa EX 10 by 7 Str BSIII' 'MARUTI SUZUKI DESI'\n",
      " 'Volkswagen Passat Diesel Comfortline AT'\n",
      " 'Renault Scala RxL Diesel Travelogue'\n",
      " 'Hyundai Grand i10 Sportz O 1.2 Kappa VTVT' 'Hyundai i20 Active 1.2 SX'\n",
      " 'Mahindra Xylo E4' 'Mahindra Jeep MM 550 XDB' 'Mahindra Bolero SLE BS IV'\n",
      " 'Force Motors Force One LX ABS 7 STR' 'Maruti Suzuki SX4' 'Toyota Etios'\n",
      " 'Honda City ZX VTEC' 'Maruti Suzuki Wagon R LX BS III'\n",
      " 'Honda City VX O MT Diesel' 'Mahindra Thar CRDe 4x4 AC'\n",
      " 'Audi A4 1.8 TFSI Multitronic Premium Plus'\n",
      " 'Mercedes Benz GLA Class 200 CDI Sport' 'Land Rover Freelander 2 SE'\n",
      " 'Renault Kwid RXT' 'Tata Aria Pleasure 4X2'\n",
      " 'Mercedes Benz B Class B180 Sports' 'Datsun GO T O' 'Honda Jazz VX MT'\n",
      " 'Hyundai i20 Active 1.4L SX O' 'Mini Cooper S'\n",
      " 'Maruti Suzuki Ciaz ZXI Plus' 'Chevrolet Tavera Neo' 'Hyundai Eon Sportz'\n",
      " 'Tata Sumo Gold Select Variant' 'Maruti Suzuki Wagon R 1.0'\n",
      " 'Maruti Suzuki Esteem VXi BS III' 'Chevrolet Enjoy 1.4 LS 8 STR'\n",
      " 'Maruti Suzuki Wagon R 1.0 VXi' 'Nissan Terrano XL D Plus'\n",
      " 'Renault Duster 85 PS RxL Diesel' 'Maruti Suzuki Dzire ZXI'\n",
      " 'Renault Kwid RXT Opt' 'Maruti Suzuki Maruti 800 Std'\n",
      " 'Renault Kwid 1.0 RXT AMT' 'Renault Scala RxL Diesel'\n",
      " 'Hyundai Grand i10 Asta 1.2 Kappa VTVT O' 'Chevrolet Beat LS Petrol'\n",
      " 'Hyundai Accent GLX' 'Yama' 'Maruti Suzuki Swift LDi'\n",
      " 'Mahindra TUV300 T4 Plus' 'Tata Indica V2 Xeta e GLE'\n",
      " 'Tata Indigo CS LS DiCOR' 'Mahindra Scorpio VLX Special Edition BS III'\n",
      " 'Tata Indica eV2 LS' 'Honda Accord' 'Ford EcoSport Titanium 1.5 TDCi'\n",
      " 'Maruti Suzuki Ertiga' 'Mahindra Scorpio 2.6 CRDe' 'Honda Mobilio'\n",
      " 'Toyota Corolla Altis' 'Skoda Laura' 'Hyundai Verna Fluidic'\n",
      " 'Maruti Suzuki Vitara Brezza' 'Tata Manza Aura Quadrajet'\n",
      " 'Chevrolet Sail UVA Petrol LT ABS' 'Hyundai Verna Fluidic 1.6 VTVT SX'\n",
      " 'Audi A4 2.0 TDI 177bhp Premium' 'Hyundai Elantra SX'\n",
      " 'Mahindra Scorpio VLX 4WD Airbag' 'Mahindra KUV100 K8 D 6 STR'\n",
      " 'Hyundai Grand i10' 'Hyundai i10' 'Hyundai i20 Active' 'Datsun Redi GO'\n",
      " 'Toyota Etios Liva' 'Hyundai Accent' 'Hyundai Verna' 'Toyota Fortuner'\n",
      " 'Hyundai i10 Sportz' 'Mahindra Bolero Power Plus SLE' 'selling car Ta'\n",
      " 'Honda City 1.5 V MT Exclusive' 'Chevrolet Spark LT 1.0 Airbag'\n",
      " 'Tata Indigo eCS VX CR4 BS IV' 'Tata Zest 90'\n",
      " 'Skoda Rapid Elegance 1.6 TDI CR MT' 'Tata Vista Quadrajet VX'\n",
      " 'Maruti Suzuki Alto K10 VXi AT' 'Maruti Suzuki Zen LXi BS III'\n",
      " 'Maruti Suzuki Swift Dzire Tour LDi' 'Honda City ZX EXi'\n",
      " 'Chevrolet Beat Diesel' 'Maruti Suzuki Swift Dzire car'\n",
      " 'Hyundai Verna 1.4 VTVT' 'Toyota Innova 2.5 E MS 7 STR BS IV'\n",
      " 'Maruti Suzuki Maruti 800 Std – Befo' 'Hyundai Elite i20 Asta 1.4 CRDI'\n",
      " 'Maruti Suzuki Swift Dzire Tour (Gat'\n",
      " 'Maruti Suzuki Versa DX2 8 SEATER BSIII' 'Tata Indigo LX TDI BS III'\n",
      " 'Volkswagen Vento Konekt Diesel Highline'\n",
      " 'Mercedes Benz C Class 200 CDI Classic' 'URJE' 'Hyundai Santro Xing GLS'\n",
      " 'Maruti Suzuki Omni Limited Edition'\n",
      " 'Hyundai Sonata Transform 2.4 GDi MT' 'Hyundai Elite i20 Sportz 1.2'\n",
      " 'Honda Jazz S MT' 'Hyundai Grand i10 Sportz 1.2 Kappa VTVT'\n",
      " 'Maruti Suzuki Zen LXi BSII' 'Mahindra Scorpio W Turbo 2.6DX 9 Seater'\n",
      " 'Swift Dzire Tour 27 Dec 2016 Regis' 'Maruti Suzuki Alto K10 VXi'\n",
      " 'Hyundai Grand i10 Asta 1.2 Kappa VTVT' 'Mahindra XUV500 W8'\n",
      " 'Hyundai i20 Magna O 1.2' 'Renault Duster 85 PS RxL Explore LE'\n",
      " 'Honda Brio V MT' 'Mahindra TUV300 T8' 'Nissan X Trail Select Variant'\n",
      " 'Ford Ikon 1.3 CLXi NXt Finesse' 'Toyota Fortuner 3.0 4x4 MT'\n",
      " 'Tata Manza ELAN Quadrajet' 'Tata zest x' 'Mahindra xyl'\n",
      " 'Mercedes Benz A Class A 180 Sport Petrol' 'Tata Indigo LS'\n",
      " 'Hyundai i20 Magna 1.2' 'Used Commercial Maruti Omn'\n",
      " 'Honda Amaze 1.5 E i DTEC' 'Hyundai Verna 1.6 EX VTVT'\n",
      " 'BMW 5 Series 520d Sedan' 'Skoda Superb 1.8 TFSI AT'\n",
      " 'Audi Q3 2.0 TDI quattro Premium' 'Mahindra Bolero DI BSII'\n",
      " 'Maruti Suzuki Zen Estilo LXI Green CNG'\n",
      " 'Ford Figo Duratorq Diesel Titanium 1.4'\n",
      " 'Maruti Suzuki Wagon R VXI BS IV' 'Mahindra Logan Diesel 1.5 DLS'\n",
      " 'Tata Nano GenX XMA' 'Honda City SV' 'Ford Figo Petrol LXI'\n",
      " 'Hyundai i10 Magna 1.2 Kappa2' 'Toyota Corolla H2'\n",
      " 'Maruti Suzuki Swift Dzire Tour VXi' 'Tata Indigo CS eLS BS IV'\n",
      " 'Hyundai Xcent Base 1.1 CRDi' 'Hyundai Accent Executive Edition'\n",
      " 'Tata Zest XE 75 PS Diesel' 'Maruti Suzuki Dzire LDI'\n",
      " 'Tata Sumo Gold LX BS IV' 'Toyota Corolla Altis GL Petrol'\n",
      " 'Maruti Suzuki Eeco 7 STR' 'Toyota Fortuner 3.0 4x2 MT'\n",
      " 'Mahindra XUV500 W6' 'Tata Tigor Revotron XZ' 'Maruti Suzuki 800'\n",
      " 'Honda Mobilio S i DTEC' 'Hyundai Verna 1.6 CRDI E'\n",
      " 'Maruti Suzuki Omni Select Variant' 'Tata Indica' 'Hyundai Santro Xing'\n",
      " 'Maruti Suzuki Zen Estilo' 'Honda Brio VX AT'\n",
      " 'Maruti Suzuki Wagon R Select Variant' 'Tata Nano Lx BSIV'\n",
      " 'Jaguar XE XE Portfolio' 'Hyundai Xcent S 1.2' 'Hyundai Eon Magna Plus'\n",
      " 'Maruti Suzuki Ritz GENUS VXI'\n",
      " 'Hyundai Grand i10 Magna AT 1.2 Kappa VTVT' 'Hyundai Eon D Lite Plus'\n",
      " 'Honda Amaze 1.2 VX i VTEC' 'Maruti Suzuki Estilo VXi ABS BS IV'\n",
      " 'Maruti Suzuki Vitara Brezza LDi O' 'Toyota Innova 2.0 V'\n",
      " 'Hyundai Creta 1.6 SX Plus Petrol AT' 'Mahindra Scorpio Vlx BSIV'\n",
      " 'Mitsubishi Lancer 1.8 LXi' 'Maruti Suzuki Maruti 800 AC'\n",
      " 'Maruti Suzuki Alto 800 LXI CNG O' 'Ford Fiesta SXi 1.6 ABS'\n",
      " 'Maruti Suzuki Ritz VDi' 'Maruti Suzuki Estilo LX BS IV'\n",
      " 'Audi A6 2.0 TDI Premium' 'Maruti Suzuki Alto'\n",
      " 'Maruti Suzuki Baleno Sigma 1.2' 'Hyundai Verna 1.6 SX VTVT AT'\n",
      " 'Maruti Suzuki Swift GLAM' 'Hyundai Getz Prime 1.3 GVS' 'Hyundai Santro'\n",
      " 'Hyundai Getz Prime 1.3 GLX' 'Chevrolet Beat PS Diesel'\n",
      " 'Ford EcoSport Trend 1.5 Ti VCT' 'Tata Indica V2 DLG'\n",
      " 'BMW X1 xDrive20d xLine' 'Honda City 1.5 V AT' 'Tata Nano'\n",
      " 'Chevrolet Cruze LTZ AT' 'Hyun' 'Maruti Suzuki Swift Dzire VDi'\n",
      " 'Mahindra XUV500 W10' 'Maruti Suzuki Alto K10 LXi CNG'\n",
      " 'Hyundai Accent GLE' 'Force Motors One SUV' 'Datsun Go Plus T O'\n",
      " 'Chevrolet Spark 1.0 LT' 'Toyota Etios Liva GD'\n",
      " 'Renault Duster 85PS Diesel RxL Optional with Nav' 'Chevrolet Enjoy'\n",
      " 'BMW 5 Series 530i' 'Chevrolet Cruze LTZ'\n",
      " 'Jeep Wrangler Unlimited 4x4 Diesel' 'Hyundai Verna VGT CRDi SX ABS'\n",
      " 'Maruti Suzuki Omni' 'Maruti Suzuki Celerio VDi'\n",
      " 'Tata Zest Quadrajet 1.3' 'Tata Indigo CS eLX BS IV' 'Hyundai i10 Era'\n",
      " 'Tata Indigo eCS LX CR4 BS IV' 'Tata Indigo Marina LS'\n",
      " 'Commercial Chevrolet Sail Hatchback ca' 'Hyundai Xcent SX 1.2'\n",
      " 'Tata Nano LX Special Edition' 'Commercial Car Ta'\n",
      " 'Renault Duster 110 PS RxZ Diesel' 'Maruti Suzuki Wagon R AX BSIV'\n",
      " 'Maruti Suzuki Alto K10 New' 'tata Indica' 'Mahindra Xylo E8'\n",
      " 'Tata Manza Aqua Quadrajet' 'Used bt new conditions ta'\n",
      " 'Renault Kwid 1.0' 'Sale tata' 'Tata Venture EX 8 STR'\n",
      " 'Maruti Suzuki Swift Dzire Tour LXi' 'Maruti Suzuki Alto LX BSII'\n",
      " 'Skoda Octavia Classic 1.9 TDI MT' 'Maruti Suzuki Omni LPG BS IV'\n",
      " 'Tata Sumo Gold EX BS IV' 'Tata indigo 2017 top model..'\n",
      " 'Hyundai Verna 1.6 CRDI SX' 'Mahindra Scorpio SLX 2.6 Turbo 8 Str'\n",
      " 'Ford Ikon 1.6 Nxt' 'Tata indigo' 'Toyota Innova 2.5 V 7 STR'\n",
      " 'Nissan Sunny XL' 'Maruti Suzuki Swift VDi BS IV'\n",
      " 'very good condition tata bolts are av' 'Toyota Innova 2.0 G4'\n",
      " 'Sale Hyundai xcent commerc' 'Maruti Suzuki Swift VDi ABS'\n",
      " 'Hyundai Elite i20 Asta 1.2' 'Volkswagen Polo Trendline 1.5L D'\n",
      " 'Toyota Etios Liva Diesel' 'Maruti Suzuki Ciaz ZXi Plus RS'\n",
      " 'Hyundai Elantra 1.8 S' 'Ford EcoSport Trend 1.5L Ti VCT'\n",
      " 'Jaguar XF 2.2 Diesel Luxury' 'Audi Q5 2.0 TDI quattro Premium Plus'\n",
      " 'BMW 3 Series 320d Sedan' 'Maruti Suzuki Swift ZXi 1.2 BS IV'\n",
      " 'BMW X1 sDrive20d' 'Maruti Suzuki S Cross Sigma 1.3'\n",
      " 'Maruti Suzuki Ertiga LDi' 'Volkswagen Vento Comfortline Petrol'\n",
      " 'Mahindra KUV100' 'Maruti Suzuki Swift Dzire Tour VDi'\n",
      " 'Mahindra Scorpio 2.6 SLX' 'Maruti Suzuki Omni 8 STR BS III'\n",
      " 'Volkswagen Jetta Comfortline 1.9 TDI AT' 'Volvo S80 Summum D4'\n",
      " 'Toyota Corolla Altis VL AT Petrol' 'Mitsubishi Pajero Sport 2.5 AT'\n",
      " 'Chevrolet Beat LT Petrol' 'BMW X1'\n",
      " 'Mercedes Benz C Class C 220 CDI Avantgarde'\n",
      " 'Volkswagen Vento Comfortline Diesel' 'Tata Indigo CS GLS'\n",
      " 'Ford Figo Petrol Titanium' 'Honda City ZX GXi'\n",
      " 'Maruti Suzuki Wagon R Duo Lxi' 'Maruti Suzuki Zen LX BSII'\n",
      " 'Renault Duster RxL Petrol' 'Maruti Suzuki Baleno Zeta 1.2'\n",
      " 'Honda WR V S MT Petrol' 'Renault Duster 110 PS RxL Diesel'\n",
      " 'Mahindra Scorpio LX BS III' 'Maruti Suzuki SX4 Celebration Diesel'\n",
      " 'Audi A3 Cabriolet 40 TFSI' 'I want to sell my commercial car due t'\n",
      " 'Hyundai Santro AE GLS Audio' 'i want sale my car.no emi....uber atta'\n",
      " 'Tata ZEST 6 month old' 'Mahindra Xylo D2 BS IV' 'Hyundai Getz GLE'\n",
      " 'Hyundai Creta 1.6 SX' 'Hyundai Santro Xing XL AT eRLX Euro III'\n",
      " 'Hyundai Santro Xing XL eRLX Euro III' 'Tata Indica V2 DLS BS III'\n",
      " 'Honda City 1.5 E MT' 'Nissan Micra XL' 'Honda City 1.5 S Inspire'\n",
      " 'Tata Indica eV2 eXeta eGLX' 'Maruti Suzuki Omni E 8 STR BS IV'\n",
      " 'MARUTI SUZUKI ERTIGA F' 'Hyundai Verna 1.6 CRDI SX Plus AT'\n",
      " 'Chevrolet Tavera LS B3 10 Seats BSII' 'Tata Tiago Revotron XM'\n",
      " 'Tata Tiago Revotorq XZ' 'Tata Nexon' 'Tata'\n",
      " 'Hindustan Motors Ambassador Classic Mark 4 – Befo'\n",
      " 'Ford Fusion 1.4 TDCi Diesel' 'Fiat Linea Emotion 1.4 L T Jet Petrol'\n",
      " 'Ford Ikon 1.3 Flair Josh 100' 'Tata Indica V2 LS' 'Mahindra Xylo D2'\n",
      " 'Hyundai Eon Magna' 'Tata Sumo Grande MKII GX'\n",
      " 'Volkswagen Polo Highline1.2L P' 'Tata Tiago Revotron XZ'\n",
      " 'Tata Indigo eCS' '2012 Tata Sumo Gold f' 'Mahindra Xylo E8 BS IV'\n",
      " 'Well mentained Tata Sumo' 'all paper updated tata indica v2 and u'\n",
      " 'Maruti Ertiga showroom condition with'\n",
      " '7 SEATER MAHINDRA BOLERO IN VERY GOOD' '9 SEATER MAHINDRA BOL'\n",
      " 'scratch less Tata I' 'Maruti Suzuki swift dzire for sale in'\n",
      " 'Commercial Chevrolet beat for sale in' 'urgent sell my Mahindra qu'\n",
      " 'Tata Sumo Gold FX BSIII' 'sell my car Maruti Suzuki Swif'\n",
      " 'Maruti Suzuki Swift Dzire good car fo' 'Hyunda'\n",
      " 'Commercial Maruti Suzuki Alto Lxi 800' 'urgent sale Ta'\n",
      " 'Maruti Suzuki Alto vxi t' 'tata' 'TATA INDI' 'Hyundai Creta'\n",
      " 'Tata Bolt XM Petrol' 'Hyundai Venue' 'Maruti Suzuki Ritz'\n",
      " 'Renault Lodgy' 'Hyundai i20 Asta' 'Maruti Suzuki Swift Select Variant'\n",
      " 'Tata Indica V2 DLX BS III' 'Mahindra Scorpio VLX 2.2 mHawk Airbag BSIV'\n",
      " 'Toyota Innova 2.5 E 8 STR' 'Mahindra KUV100 K8 6 STR' 'Datsun Go Plus'\n",
      " 'Ford Endeavor 4x4 Thunder Plus' 'Tata Indica V2'\n",
      " 'Hyundai Santro Xing GL' 'Toyota Innova 2.5 Z Diesel 7 Seater'\n",
      " 'Any type car avaiabel hare...comercica' 'Maruti Suzuki Alto AX'\n",
      " 'Mahindra Logan' 'Maruti Suzuki 800 Std BS III' 'Chevrolet Sail 1.2 LS'\n",
      " 'Volkswagen Vento Highline Plus 1.5 Diesel' 'Tata Manza'\n",
      " 'Toyota Innova 2.0 G1 Petrol 8seater' 'Toyota Etios G' 'Toyota Qualis'\n",
      " 'Mahindra Quanto C4' 'Maruti Suzuki Swift Dzire'\n",
      " 'Hyundai i20 Select Variant' 'Honda City VX Petrol' 'Hyundai Getz'\n",
      " 'Mercedes Benz C Class 200 K MT' 'Skoda Fabia'\n",
      " 'Maruti Suzuki Alto 800 Select Variant' 'Maruti Suzuki Ritz VXI ABS'\n",
      " 'tata zest 2017 f' 'Tata Indica V2 DLE BS III' 'Ta' 'Tata Zest XM Diesel'\n",
      " 'Honda Amaze 1.2 E i VTEC' 'Chevrolet Sail 1.2 LT ABS']\n",
      "\n",
      "company\n",
      "['Hyundai' 'Mahindra' 'Maruti' 'Ford' 'Skoda' 'Audi' 'Toyota' 'Renault'\n",
      " 'Honda' 'Datsun' 'Mitsubishi' 'Tata' 'Volkswagen' 'I' 'Chevrolet' 'Mini'\n",
      " 'BMW' 'Nissan' 'Hindustan' 'Fiat' 'Commercial' 'MARUTI' 'Force'\n",
      " 'Mercedes' 'Land' 'Yamaha' 'selling' 'URJENT' 'Swift' 'Used' 'Jaguar'\n",
      " 'Jeep' 'tata' 'Sale' 'very' 'Volvo' 'i' '2012' 'Well' 'all' '7' '9'\n",
      " 'scratch' 'urgent' 'sell' 'TATA' 'Any' 'Tara']\n",
      "\n",
      "year\n",
      "['2007' '2006' '2018' '2014' '2015' '2012' '2013' '2016' '2010' '2017'\n",
      " '2008' '2011' '2019' '2009' '2005' '2000' '...' '150k' 'TOUR' '2003'\n",
      " 'r 15' '2004' 'Zest' '/-Rs' 'sale' '1995' 'ara)' '2002' 'SELL' '2001'\n",
      " 'tion' 'odel' '2 bs' 'arry' 'Eon' 'o...' 'ture' 'emi' 'car' 'able' 'no.'\n",
      " 'd...' 'SALE' 'digo' 'sell' 'd Ex' 'n...' 'e...' 'D...' ', Ac' 'go .'\n",
      " 'k...' 'o c4' 'zire' 'cent' 'Sumo' 'cab' 't xe' 'EV2' 'r...' 'zest']\n",
      "\n",
      "Price\n",
      "['80,000' '4,25,000' 'Ask For Price' '3,25,000' '5,75,000' '1,75,000'\n",
      " '1,90,000' '8,30,000' '2,50,000' '1,82,000' '3,15,000' '4,15,000'\n",
      " '3,20,000' '10,00,000' '5,00,000' '3,50,000' '1,60,000' '3,10,000'\n",
      " '75,000' '1,00,000' '2,90,000' '95,000' '1,80,000' '3,85,000' '1,05,000'\n",
      " '6,50,000' '6,89,999' '4,48,000' '5,49,000' '5,01,000' '4,89,999'\n",
      " '2,80,000' '3,49,999' '2,84,999' '3,45,000' '4,99,999' '2,35,000'\n",
      " '2,49,999' '14,75,000' '3,95,000' '2,20,000' '1,70,000' '85,000'\n",
      " '2,00,000' '5,70,000' '1,10,000' '4,48,999' '18,91,111' '1,59,500'\n",
      " '3,44,999' '4,49,999' '8,65,000' '6,99,000' '3,75,000' '2,24,999'\n",
      " '12,00,000' '1,95,000' '3,51,000' '2,40,000' '90,000' '1,55,000'\n",
      " '6,00,000' '1,89,500' '2,10,000' '3,90,000' '1,35,000' '16,00,000'\n",
      " '7,01,000' '2,65,000' '5,25,000' '3,72,000' '6,35,000' '5,50,000'\n",
      " '4,85,000' '3,29,500' '2,51,111' '5,69,999' '69,999' '2,99,999'\n",
      " '3,99,999' '4,50,000' '2,70,000' '1,58,400' '1,79,000' '1,25,000'\n",
      " '2,99,000' '1,50,000' '2,75,000' '2,85,000' '3,40,000' '70,000'\n",
      " '2,89,999' '8,49,999' '7,49,999' '2,74,999' '9,84,999' '5,99,999'\n",
      " '2,44,999' '4,74,999' '2,45,000' '1,69,500' '3,70,000' '1,68,000'\n",
      " '1,45,000' '98,500' '2,09,000' '1,85,000' '9,00,000' '6,99,999'\n",
      " '1,99,999' '5,44,999' '1,99,000' '5,40,000' '49,000' '7,00,000' '55,000'\n",
      " '8,95,000' '3,55,000' '5,65,000' '3,65,000' '40,000' '4,00,000'\n",
      " '3,30,000' '5,80,000' '3,79,000' '2,19,000' '5,19,000' '7,30,000'\n",
      " '20,00,000' '21,00,000' '14,00,000' '3,11,000' '8,55,000' '5,35,000'\n",
      " '1,78,000' '3,00,000' '2,55,000' '5,49,999' '3,80,000' '57,000'\n",
      " '4,10,000' '2,25,000' '1,20,000' '59,000' '5,99,000' '6,75,000' '72,500'\n",
      " '6,10,000' '2,30,000' '5,20,000' '5,24,999' '4,24,999' '6,44,999'\n",
      " '5,84,999' '7,99,999' '4,44,999' '6,49,999' '9,44,999' '5,74,999'\n",
      " '3,74,999' '1,30,000' '4,01,000' '13,50,000' '1,74,999' '2,39,999'\n",
      " '99,999' '3,24,999' '10,74,999' '11,30,000' '1,49,000' '7,70,000'\n",
      " '30,000' '3,35,000' '3,99,000' '65,000' '1,69,999' '1,65,000' '5,60,000'\n",
      " '9,50,000' '7,15,000' '45,000' '9,40,000' '1,55,555' '15,00,000'\n",
      " '4,95,000' '8,00,000' '12,99,000' '5,30,000' '14,99,000' '32,000'\n",
      " '4,05,000' '7,60,000' '7,50,000' '4,19,000' '1,40,000' '15,40,000'\n",
      " '1,23,000' '4,98,000' '4,80,000' '4,88,000' '15,25,000' '5,48,900'\n",
      " '7,25,000' '99,000' '52,000' '28,00,000' '4,99,000' '3,81,000' '2,78,000'\n",
      " '6,90,000' '2,60,000' '90,001' '1,15,000' '15,99,000' '1,59,000' '51,999'\n",
      " '2,15,000' '35,000' '11,50,000' '2,69,000' '60,000' '4,30,000'\n",
      " '85,00,003' '4,01,919' '4,90,000' '4,24,000' '2,05,000' '5,49,900'\n",
      " '3,71,500' '4,35,000' '1,89,700' '3,89,700' '3,60,000' '2,95,000'\n",
      " '1,14,990' '10,65,000' '4,70,000' '48,000' '1,88,000' '4,65,000'\n",
      " '1,79,999' '21,90,000' '23,90,000' '10,75,000' '4,75,000' '10,25,000'\n",
      " '6,15,000' '19,00,000' '14,90,000' '15,10,000' '18,50,000' '7,90,000'\n",
      " '17,25,000' '12,25,000' '68,000' '9,70,000' '31,00,000' '8,99,000'\n",
      " '88,000' '53,000' '5,68,500' '71,000' '5,90,000' '7,95,000' '42,000'\n",
      " '1,89,000' '1,62,000' '35,999' '29,00,000' '39,999' '50,500' '5,10,000'\n",
      " '8,60,000' '5,00,001']\n",
      "\n",
      "kms_driven\n",
      "['45,000 kms' '40 kms' '22,000 kms' '28,000 kms' '36,000 kms' '59,000 kms'\n",
      " '41,000 kms' '25,000 kms' '24,530 kms' '60,000 kms' '30,000 kms'\n",
      " '32,000 kms' '48,660 kms' '4,000 kms' '16,934 kms' '43,000 kms'\n",
      " '35,550 kms' '39,522 kms' '39,000 kms' '55,000 kms' '72,000 kms'\n",
      " '15,975 kms' '70,000 kms' '23,452 kms' '35,522 kms' '48,508 kms'\n",
      " '15,487 kms' '82,000 kms' '20,000 kms' '68,000 kms' '38,000 kms'\n",
      " '27,000 kms' '33,000 kms' '46,000 kms' '16,000 kms' '47,000 kms'\n",
      " '35,000 kms' '30,874 kms' '15,000 kms' '29,685 kms' '1,30,000 kms'\n",
      " '19,000 kms' nan '54,000 kms' '13,000 kms' '38,200 kms' '50,000 kms'\n",
      " '13,500 kms' '3,600 kms' '45,863 kms' '60,500 kms' '12,500 kms'\n",
      " '18,000 kms' '13,349 kms' '29,000 kms' '44,000 kms' '42,000 kms'\n",
      " '14,000 kms' '49,000 kms' '36,200 kms' '51,000 kms' '1,04,000 kms'\n",
      " '33,333 kms' '33,600 kms' '5,600 kms' '7,500 kms' '26,000 kms'\n",
      " '24,330 kms' '65,480 kms' '28,028 kms' '2,00,000 kms' '99,000 kms'\n",
      " '2,800 kms' '21,000 kms' '11,000 kms' '66,000 kms' '3,000 kms'\n",
      " '7,000 kms' '38,500 kms' '37,200 kms' '43,200 kms' '24,800 kms'\n",
      " '45,872 kms' '40,000 kms' '11,400 kms' '97,200 kms' '52,000 kms'\n",
      " '31,000 kms' '1,75,430 kms' '37,000 kms' '65,000 kms' '3,350 kms'\n",
      " '75,000 kms' '62,000 kms' '73,000 kms' '2,200 kms' '54,870 kms'\n",
      " '34,580 kms' '97,000 kms' '60 kms' '80,200 kms' '3,200 kms' '0,000 kms'\n",
      " '5,000 kms' '588 kms' '71,200 kms' '1,75,400 kms' '9,300 kms'\n",
      " '56,758 kms' '10,000 kms' '56,450 kms' '56,000 kms' '32,700 kms'\n",
      " '9,000 kms' '73 kms' '1,60,000 kms' '84,000 kms' '58,559 kms'\n",
      " '57,000 kms' '1,70,000 kms' '80,000 kms' '6,821 kms' '23,000 kms'\n",
      " '34,000 kms' '1,800 kms' '4,00,000 kms' '48,000 kms' '90,000 kms'\n",
      " '12,000 kms' '69,900 kms' '1,66,000 kms' '122 kms' '0 kms' '24,000 kms'\n",
      " '36,469 kms' '7,800 kms' '24,695 kms' '15,141 kms' '59,910 kms'\n",
      " '1,00,000 kms' '4,500 kms' '1,29,000 kms' '300 kms' '1,31,000 kms'\n",
      " '1,11,111 kms' '59,466 kms' '25,500 kms' '44,005 kms' '2,110 kms'\n",
      " '43,222 kms' '1,00,200 kms' '65 kms' '1,40,000 kms' '1,03,553 kms'\n",
      " '58,000 kms' '1,20,000 kms' '49,800 kms' '100 kms' '81,876 kms'\n",
      " '6,020 kms' '55,700 kms' '18,500 kms' '1,80,000 kms' '53,000 kms'\n",
      " '35,500 kms' '22,134 kms' '1,000 kms' '8,500 kms' '87,000 kms'\n",
      " '6,000 kms' '15,574 kms' '8,000 kms' '55,800 kms' '56,400 kms'\n",
      " '72,160 kms' '11,500 kms' '1,33,000 kms' '2,000 kms' '88,000 kms'\n",
      " '65,422 kms' '1,17,000 kms' '1,50,000 kms' '10,750 kms' '6,800 kms'\n",
      " '5 kms' '9,800 kms' '57,923 kms' '30,201 kms' '6,200 kms' '37,518 kms'\n",
      " '24,652 kms' '383 kms' '95,000 kms' '3,528 kms' '52,500 kms' '47,900 kms'\n",
      " '52,800 kms' '1,95,000 kms' '48,008 kms' '48,247 kms' '9,400 kms'\n",
      " '64,000 kms' '2,137 kms' '10,544 kms' '49,500 kms' '1,47,000 kms'\n",
      " '90,001 kms' '48,006 kms' '74,000 kms' '85,000 kms' '29,500 kms'\n",
      " '39,700 kms' '67,000 kms' '19,336 kms' '60,105 kms' '45,933 kms'\n",
      " '1,02,563 kms' '28,600 kms' '41,800 kms' '1,16,000 kms' '42,590 kms'\n",
      " '7,400 kms' '54,500 kms' '76,000 kms' '00 kms' '11,523 kms' '38,600 kms'\n",
      " '95,500 kms' '37,458 kms' '85,960 kms' '12,516 kms' '30,600 kms'\n",
      " '2,550 kms' '62,500 kms' '69,000 kms' '28,400 kms' '68,485 kms'\n",
      " '3,500 kms' '85,455 kms' '63,000 kms' '1,600 kms' '77,000 kms'\n",
      " '26,500 kms' '2,875 kms' '13,900 kms' '1,500 kms' '2,450 kms' '1,625 kms'\n",
      " '33,400 kms' '60,123 kms' '38,900 kms' '1,37,495 kms' '91,200 kms'\n",
      " '1,46,000 kms' '1,00,800 kms' '2,100 kms' '2,500 kms' '1,32,000 kms'\n",
      " 'Petrol']\n",
      "\n",
      "fuel_type\n",
      "['Petrol' 'Diesel' nan 'LPG']\n",
      "\n"
     ]
    }
   ],
   "source": [
    "for i in data.columns:\n",
    "    print(i)\n",
    "    print(data[i].unique())\n",
    "    print('')"
   ]
  },
  {
   "cell_type": "markdown",
   "metadata": {},
   "source": [
    "# This data needs to be cleaned before using it to train the model.\n"
   ]
  },
  {
   "cell_type": "code",
   "execution_count": null,
   "metadata": {},
   "outputs": [],
   "source": []
  },
  {
   "cell_type": "code",
   "execution_count": 6,
   "metadata": {},
   "outputs": [
    {
     "data": {
      "text/plain": [
       "0      2007\n",
       "1      2006\n",
       "2      2018\n",
       "3      2014\n",
       "4      2014\n",
       "       ... \n",
       "887    zest\n",
       "888    2018\n",
       "889    2013\n",
       "890    2014\n",
       "891    2014\n",
       "Name: year, Length: 892, dtype: object"
      ]
     },
     "execution_count": 6,
     "metadata": {},
     "output_type": "execute_result"
    }
   ],
   "source": [
    "# cleaning the 'Year' column-\n",
    "data['year']\n"
   ]
  },
  {
   "cell_type": "code",
   "execution_count": 7,
   "metadata": {},
   "outputs": [],
   "source": [
    "#removing non numeric values-\n",
    "data=data[data['year'].str.isnumeric()]\n",
    "data['year'] = data['year'].astype(int)\n"
   ]
  },
  {
   "cell_type": "code",
   "execution_count": 8,
   "metadata": {},
   "outputs": [
    {
     "name": "stdout",
     "output_type": "stream",
     "text": [
      "<class 'pandas.core.frame.DataFrame'>\n",
      "Int64Index: 842 entries, 0 to 891\n",
      "Data columns (total 6 columns):\n",
      "name          842 non-null object\n",
      "company       842 non-null object\n",
      "year          842 non-null int32\n",
      "Price         842 non-null object\n",
      "kms_driven    840 non-null object\n",
      "fuel_type     837 non-null object\n",
      "dtypes: int32(1), object(5)\n",
      "memory usage: 42.8+ KB\n"
     ]
    }
   ],
   "source": [
    "data.info()"
   ]
  },
  {
   "cell_type": "code",
   "execution_count": 9,
   "metadata": {},
   "outputs": [],
   "source": [
    "# cleaning 'price' column\n",
    "data=data.drop(data[data['Price'] == \"Ask For Price\"].index)\n"
   ]
  },
  {
   "cell_type": "code",
   "execution_count": 10,
   "metadata": {},
   "outputs": [],
   "source": [
    "data['Price']=data['Price'].str.replace(',','').astype(int)"
   ]
  },
  {
   "cell_type": "code",
   "execution_count": 11,
   "metadata": {},
   "outputs": [
    {
     "name": "stdout",
     "output_type": "stream",
     "text": [
      "<class 'pandas.core.frame.DataFrame'>\n",
      "Int64Index: 819 entries, 0 to 891\n",
      "Data columns (total 6 columns):\n",
      "name          819 non-null object\n",
      "company       819 non-null object\n",
      "year          819 non-null int32\n",
      "Price         819 non-null int32\n",
      "kms_driven    819 non-null object\n",
      "fuel_type     816 non-null object\n",
      "dtypes: int32(2), object(4)\n",
      "memory usage: 38.4+ KB\n"
     ]
    }
   ],
   "source": [
    "data.info()"
   ]
  },
  {
   "cell_type": "code",
   "execution_count": 12,
   "metadata": {},
   "outputs": [],
   "source": [
    "# cleaning 'kms driven' column\n",
    "data['kms_driven'] = data['kms_driven'].str.split(' ').str.get(0).str.replace(',','')\n"
   ]
  },
  {
   "cell_type": "code",
   "execution_count": 13,
   "metadata": {},
   "outputs": [],
   "source": [
    "data=data[data['kms_driven'].str.isnumeric()]\n",
    "data['kms_driven'] = data['kms_driven'].astype(int)"
   ]
  },
  {
   "cell_type": "code",
   "execution_count": 14,
   "metadata": {},
   "outputs": [
    {
     "name": "stdout",
     "output_type": "stream",
     "text": [
      "<class 'pandas.core.frame.DataFrame'>\n",
      "Int64Index: 817 entries, 0 to 889\n",
      "Data columns (total 6 columns):\n",
      "name          817 non-null object\n",
      "company       817 non-null object\n",
      "year          817 non-null int32\n",
      "Price         817 non-null int32\n",
      "kms_driven    817 non-null int32\n",
      "fuel_type     816 non-null object\n",
      "dtypes: int32(3), object(3)\n",
      "memory usage: 35.1+ KB\n"
     ]
    }
   ],
   "source": [
    "data.info()"
   ]
  },
  {
   "cell_type": "code",
   "execution_count": 15,
   "metadata": {},
   "outputs": [
    {
     "data": {
      "text/html": [
       "<div>\n",
       "<style scoped>\n",
       "    .dataframe tbody tr th:only-of-type {\n",
       "        vertical-align: middle;\n",
       "    }\n",
       "\n",
       "    .dataframe tbody tr th {\n",
       "        vertical-align: top;\n",
       "    }\n",
       "\n",
       "    .dataframe thead th {\n",
       "        text-align: right;\n",
       "    }\n",
       "</style>\n",
       "<table border=\"1\" class=\"dataframe\">\n",
       "  <thead>\n",
       "    <tr style=\"text-align: right;\">\n",
       "      <th></th>\n",
       "      <th>name</th>\n",
       "      <th>company</th>\n",
       "      <th>year</th>\n",
       "      <th>Price</th>\n",
       "      <th>kms_driven</th>\n",
       "      <th>fuel_type</th>\n",
       "    </tr>\n",
       "  </thead>\n",
       "  <tbody>\n",
       "    <tr>\n",
       "      <td>132</td>\n",
       "      <td>Toyota Corolla</td>\n",
       "      <td>Toyota</td>\n",
       "      <td>2009</td>\n",
       "      <td>275000</td>\n",
       "      <td>26000</td>\n",
       "      <td>NaN</td>\n",
       "    </tr>\n",
       "  </tbody>\n",
       "</table>\n",
       "</div>"
      ],
      "text/plain": [
       "               name company  year   Price  kms_driven fuel_type\n",
       "132  Toyota Corolla  Toyota  2009  275000       26000       NaN"
      ]
     },
     "execution_count": 15,
     "metadata": {},
     "output_type": "execute_result"
    }
   ],
   "source": [
    "#cleaning 'fuel_type' column\n",
    "data[data['fuel_type'].isna()]"
   ]
  },
  {
   "cell_type": "code",
   "execution_count": 16,
   "metadata": {},
   "outputs": [],
   "source": [
    "data.drop([132],axis=0,inplace=True)"
   ]
  },
  {
   "cell_type": "code",
   "execution_count": 17,
   "metadata": {},
   "outputs": [
    {
     "name": "stdout",
     "output_type": "stream",
     "text": [
      "<class 'pandas.core.frame.DataFrame'>\n",
      "Int64Index: 816 entries, 0 to 889\n",
      "Data columns (total 6 columns):\n",
      "name          816 non-null object\n",
      "company       816 non-null object\n",
      "year          816 non-null int32\n",
      "Price         816 non-null int32\n",
      "kms_driven    816 non-null int32\n",
      "fuel_type     816 non-null object\n",
      "dtypes: int32(3), object(3)\n",
      "memory usage: 35.1+ KB\n"
     ]
    }
   ],
   "source": [
    "data.info()"
   ]
  },
  {
   "cell_type": "code",
   "execution_count": 18,
   "metadata": {},
   "outputs": [],
   "source": [
    "# cleaning 'name' column\n",
    "data['name'] = data['name'].str.split(' ').str.slice(0,3).str.join(' ')"
   ]
  },
  {
   "cell_type": "code",
   "execution_count": 19,
   "metadata": {},
   "outputs": [
    {
     "data": {
      "text/html": [
       "<div>\n",
       "<style scoped>\n",
       "    .dataframe tbody tr th:only-of-type {\n",
       "        vertical-align: middle;\n",
       "    }\n",
       "\n",
       "    .dataframe tbody tr th {\n",
       "        vertical-align: top;\n",
       "    }\n",
       "\n",
       "    .dataframe thead th {\n",
       "        text-align: right;\n",
       "    }\n",
       "</style>\n",
       "<table border=\"1\" class=\"dataframe\">\n",
       "  <thead>\n",
       "    <tr style=\"text-align: right;\">\n",
       "      <th></th>\n",
       "      <th>name</th>\n",
       "      <th>company</th>\n",
       "      <th>year</th>\n",
       "      <th>Price</th>\n",
       "      <th>kms_driven</th>\n",
       "      <th>fuel_type</th>\n",
       "    </tr>\n",
       "  </thead>\n",
       "  <tbody>\n",
       "    <tr>\n",
       "      <td>0</td>\n",
       "      <td>Hyundai Santro Xing</td>\n",
       "      <td>Hyundai</td>\n",
       "      <td>2007</td>\n",
       "      <td>80000</td>\n",
       "      <td>45000</td>\n",
       "      <td>Petrol</td>\n",
       "    </tr>\n",
       "    <tr>\n",
       "      <td>1</td>\n",
       "      <td>Mahindra Jeep CL550</td>\n",
       "      <td>Mahindra</td>\n",
       "      <td>2006</td>\n",
       "      <td>425000</td>\n",
       "      <td>40</td>\n",
       "      <td>Diesel</td>\n",
       "    </tr>\n",
       "    <tr>\n",
       "      <td>2</td>\n",
       "      <td>Hyundai Grand i10</td>\n",
       "      <td>Hyundai</td>\n",
       "      <td>2014</td>\n",
       "      <td>325000</td>\n",
       "      <td>28000</td>\n",
       "      <td>Petrol</td>\n",
       "    </tr>\n",
       "    <tr>\n",
       "      <td>3</td>\n",
       "      <td>Ford EcoSport Titanium</td>\n",
       "      <td>Ford</td>\n",
       "      <td>2014</td>\n",
       "      <td>575000</td>\n",
       "      <td>36000</td>\n",
       "      <td>Diesel</td>\n",
       "    </tr>\n",
       "    <tr>\n",
       "      <td>4</td>\n",
       "      <td>Ford Figo</td>\n",
       "      <td>Ford</td>\n",
       "      <td>2012</td>\n",
       "      <td>175000</td>\n",
       "      <td>41000</td>\n",
       "      <td>Diesel</td>\n",
       "    </tr>\n",
       "    <tr>\n",
       "      <td>...</td>\n",
       "      <td>...</td>\n",
       "      <td>...</td>\n",
       "      <td>...</td>\n",
       "      <td>...</td>\n",
       "      <td>...</td>\n",
       "      <td>...</td>\n",
       "    </tr>\n",
       "    <tr>\n",
       "      <td>811</td>\n",
       "      <td>Maruti Suzuki Ritz</td>\n",
       "      <td>Maruti</td>\n",
       "      <td>2011</td>\n",
       "      <td>270000</td>\n",
       "      <td>50000</td>\n",
       "      <td>Petrol</td>\n",
       "    </tr>\n",
       "    <tr>\n",
       "      <td>812</td>\n",
       "      <td>Tata Indica V2</td>\n",
       "      <td>Tata</td>\n",
       "      <td>2009</td>\n",
       "      <td>110000</td>\n",
       "      <td>30000</td>\n",
       "      <td>Diesel</td>\n",
       "    </tr>\n",
       "    <tr>\n",
       "      <td>813</td>\n",
       "      <td>Toyota Corolla Altis</td>\n",
       "      <td>Toyota</td>\n",
       "      <td>2009</td>\n",
       "      <td>300000</td>\n",
       "      <td>132000</td>\n",
       "      <td>Petrol</td>\n",
       "    </tr>\n",
       "    <tr>\n",
       "      <td>814</td>\n",
       "      <td>Tata Zest XM</td>\n",
       "      <td>Tata</td>\n",
       "      <td>2018</td>\n",
       "      <td>260000</td>\n",
       "      <td>27000</td>\n",
       "      <td>Diesel</td>\n",
       "    </tr>\n",
       "    <tr>\n",
       "      <td>815</td>\n",
       "      <td>Mahindra Quanto C8</td>\n",
       "      <td>Mahindra</td>\n",
       "      <td>2013</td>\n",
       "      <td>390000</td>\n",
       "      <td>40000</td>\n",
       "      <td>Diesel</td>\n",
       "    </tr>\n",
       "  </tbody>\n",
       "</table>\n",
       "<p>816 rows × 6 columns</p>\n",
       "</div>"
      ],
      "text/plain": [
       "                       name   company  year   Price  kms_driven fuel_type\n",
       "0       Hyundai Santro Xing   Hyundai  2007   80000       45000    Petrol\n",
       "1       Mahindra Jeep CL550  Mahindra  2006  425000          40    Diesel\n",
       "2         Hyundai Grand i10   Hyundai  2014  325000       28000    Petrol\n",
       "3    Ford EcoSport Titanium      Ford  2014  575000       36000    Diesel\n",
       "4                 Ford Figo      Ford  2012  175000       41000    Diesel\n",
       "..                      ...       ...   ...     ...         ...       ...\n",
       "811      Maruti Suzuki Ritz    Maruti  2011  270000       50000    Petrol\n",
       "812          Tata Indica V2      Tata  2009  110000       30000    Diesel\n",
       "813    Toyota Corolla Altis    Toyota  2009  300000      132000    Petrol\n",
       "814            Tata Zest XM      Tata  2018  260000       27000    Diesel\n",
       "815      Mahindra Quanto C8  Mahindra  2013  390000       40000    Diesel\n",
       "\n",
       "[816 rows x 6 columns]"
      ]
     },
     "execution_count": 19,
     "metadata": {},
     "output_type": "execute_result"
    }
   ],
   "source": [
    "data.reset_index(drop=True,inplace=True)\n",
    "data"
   ]
  },
  {
   "cell_type": "code",
   "execution_count": 20,
   "metadata": {},
   "outputs": [
    {
     "data": {
      "text/html": [
       "<div>\n",
       "<style scoped>\n",
       "    .dataframe tbody tr th:only-of-type {\n",
       "        vertical-align: middle;\n",
       "    }\n",
       "\n",
       "    .dataframe tbody tr th {\n",
       "        vertical-align: top;\n",
       "    }\n",
       "\n",
       "    .dataframe thead th {\n",
       "        text-align: right;\n",
       "    }\n",
       "</style>\n",
       "<table border=\"1\" class=\"dataframe\">\n",
       "  <thead>\n",
       "    <tr style=\"text-align: right;\">\n",
       "      <th></th>\n",
       "      <th>year</th>\n",
       "      <th>Price</th>\n",
       "      <th>kms_driven</th>\n",
       "    </tr>\n",
       "  </thead>\n",
       "  <tbody>\n",
       "    <tr>\n",
       "      <td>count</td>\n",
       "      <td>816.000000</td>\n",
       "      <td>8.160000e+02</td>\n",
       "      <td>816.000000</td>\n",
       "    </tr>\n",
       "    <tr>\n",
       "      <td>mean</td>\n",
       "      <td>2012.444853</td>\n",
       "      <td>4.117176e+05</td>\n",
       "      <td>46275.531863</td>\n",
       "    </tr>\n",
       "    <tr>\n",
       "      <td>std</td>\n",
       "      <td>4.002992</td>\n",
       "      <td>4.751844e+05</td>\n",
       "      <td>34297.428044</td>\n",
       "    </tr>\n",
       "    <tr>\n",
       "      <td>min</td>\n",
       "      <td>1995.000000</td>\n",
       "      <td>3.000000e+04</td>\n",
       "      <td>0.000000</td>\n",
       "    </tr>\n",
       "    <tr>\n",
       "      <td>25%</td>\n",
       "      <td>2010.000000</td>\n",
       "      <td>1.750000e+05</td>\n",
       "      <td>27000.000000</td>\n",
       "    </tr>\n",
       "    <tr>\n",
       "      <td>50%</td>\n",
       "      <td>2013.000000</td>\n",
       "      <td>2.999990e+05</td>\n",
       "      <td>41000.000000</td>\n",
       "    </tr>\n",
       "    <tr>\n",
       "      <td>75%</td>\n",
       "      <td>2015.000000</td>\n",
       "      <td>4.912500e+05</td>\n",
       "      <td>56818.500000</td>\n",
       "    </tr>\n",
       "    <tr>\n",
       "      <td>max</td>\n",
       "      <td>2019.000000</td>\n",
       "      <td>8.500003e+06</td>\n",
       "      <td>400000.000000</td>\n",
       "    </tr>\n",
       "  </tbody>\n",
       "</table>\n",
       "</div>"
      ],
      "text/plain": [
       "              year         Price     kms_driven\n",
       "count   816.000000  8.160000e+02     816.000000\n",
       "mean   2012.444853  4.117176e+05   46275.531863\n",
       "std       4.002992  4.751844e+05   34297.428044\n",
       "min    1995.000000  3.000000e+04       0.000000\n",
       "25%    2010.000000  1.750000e+05   27000.000000\n",
       "50%    2013.000000  2.999990e+05   41000.000000\n",
       "75%    2015.000000  4.912500e+05   56818.500000\n",
       "max    2019.000000  8.500003e+06  400000.000000"
      ]
     },
     "execution_count": 20,
     "metadata": {},
     "output_type": "execute_result"
    }
   ],
   "source": [
    "data.describe()"
   ]
  },
  {
   "cell_type": "code",
   "execution_count": 21,
   "metadata": {},
   "outputs": [],
   "source": [
    "# max value seems to be an outlier...lets check it\n",
    "data[data['Price']>6000000]\n",
    "data.drop([534],axis=0,inplace=True)"
   ]
  },
  {
   "cell_type": "code",
   "execution_count": 22,
   "metadata": {},
   "outputs": [
    {
     "data": {
      "text/html": [
       "<div>\n",
       "<style scoped>\n",
       "    .dataframe tbody tr th:only-of-type {\n",
       "        vertical-align: middle;\n",
       "    }\n",
       "\n",
       "    .dataframe tbody tr th {\n",
       "        vertical-align: top;\n",
       "    }\n",
       "\n",
       "    .dataframe thead th {\n",
       "        text-align: right;\n",
       "    }\n",
       "</style>\n",
       "<table border=\"1\" class=\"dataframe\">\n",
       "  <thead>\n",
       "    <tr style=\"text-align: right;\">\n",
       "      <th></th>\n",
       "      <th>year</th>\n",
       "      <th>Price</th>\n",
       "      <th>kms_driven</th>\n",
       "    </tr>\n",
       "  </thead>\n",
       "  <tbody>\n",
       "    <tr>\n",
       "      <td>count</td>\n",
       "      <td>815.000000</td>\n",
       "      <td>8.150000e+02</td>\n",
       "      <td>815.000000</td>\n",
       "    </tr>\n",
       "    <tr>\n",
       "      <td>mean</td>\n",
       "      <td>2012.442945</td>\n",
       "      <td>4.017933e+05</td>\n",
       "      <td>46277.096933</td>\n",
       "    </tr>\n",
       "    <tr>\n",
       "      <td>std</td>\n",
       "      <td>4.005079</td>\n",
       "      <td>3.815888e+05</td>\n",
       "      <td>34318.459638</td>\n",
       "    </tr>\n",
       "    <tr>\n",
       "      <td>min</td>\n",
       "      <td>1995.000000</td>\n",
       "      <td>3.000000e+04</td>\n",
       "      <td>0.000000</td>\n",
       "    </tr>\n",
       "    <tr>\n",
       "      <td>25%</td>\n",
       "      <td>2010.000000</td>\n",
       "      <td>1.750000e+05</td>\n",
       "      <td>27000.000000</td>\n",
       "    </tr>\n",
       "    <tr>\n",
       "      <td>50%</td>\n",
       "      <td>2013.000000</td>\n",
       "      <td>2.999990e+05</td>\n",
       "      <td>41000.000000</td>\n",
       "    </tr>\n",
       "    <tr>\n",
       "      <td>75%</td>\n",
       "      <td>2015.000000</td>\n",
       "      <td>4.900000e+05</td>\n",
       "      <td>56879.000000</td>\n",
       "    </tr>\n",
       "    <tr>\n",
       "      <td>max</td>\n",
       "      <td>2019.000000</td>\n",
       "      <td>3.100000e+06</td>\n",
       "      <td>400000.000000</td>\n",
       "    </tr>\n",
       "  </tbody>\n",
       "</table>\n",
       "</div>"
      ],
      "text/plain": [
       "              year         Price     kms_driven\n",
       "count   815.000000  8.150000e+02     815.000000\n",
       "mean   2012.442945  4.017933e+05   46277.096933\n",
       "std       4.005079  3.815888e+05   34318.459638\n",
       "min    1995.000000  3.000000e+04       0.000000\n",
       "25%    2010.000000  1.750000e+05   27000.000000\n",
       "50%    2013.000000  2.999990e+05   41000.000000\n",
       "75%    2015.000000  4.900000e+05   56879.000000\n",
       "max    2019.000000  3.100000e+06  400000.000000"
      ]
     },
     "execution_count": 22,
     "metadata": {},
     "output_type": "execute_result"
    }
   ],
   "source": [
    "data.describe()"
   ]
  },
  {
   "cell_type": "markdown",
   "metadata": {},
   "source": [
    "Now this is our cleaned data. Lets store it in another csv file."
   ]
  },
  {
   "cell_type": "code",
   "execution_count": 23,
   "metadata": {},
   "outputs": [],
   "source": [
    "#data.to_csv('Cleaned data.csv')"
   ]
  },
  {
   "cell_type": "markdown",
   "metadata": {},
   "source": [
    "# Train the model using linear regression"
   ]
  },
  {
   "cell_type": "code",
   "execution_count": 24,
   "metadata": {},
   "outputs": [],
   "source": [
    "from sklearn.model_selection import train_test_split\n",
    "from sklearn.linear_model import LinearRegression\n",
    "from sklearn.metrics import r2_score\n",
    "from sklearn.preprocessing import OneHotEncoder\n",
    "from sklearn.compose import make_column_transformer\n",
    "from sklearn.pipeline import make_pipeline"
   ]
  },
  {
   "cell_type": "code",
   "execution_count": 25,
   "metadata": {},
   "outputs": [],
   "source": [
    "x=data.drop(columns='Price')\n",
    "y=data['Price']"
   ]
  },
  {
   "cell_type": "code",
   "execution_count": 26,
   "metadata": {},
   "outputs": [],
   "source": [
    "x_train,x_test,y_train,y_test=train_test_split(x,y,test_size=0.2)"
   ]
  },
  {
   "cell_type": "code",
   "execution_count": null,
   "metadata": {},
   "outputs": [],
   "source": []
  },
  {
   "cell_type": "code",
   "execution_count": 27,
   "metadata": {},
   "outputs": [
    {
     "name": "stdout",
     "output_type": "stream",
     "text": [
      "name\n",
      "['Hyundai Santro Xing' 'Mahindra Jeep CL550' 'Hyundai Grand i10'\n",
      " 'Ford EcoSport Titanium' 'Ford Figo' 'Hyundai Eon'\n",
      " 'Ford EcoSport Ambiente' 'Maruti Suzuki Alto' 'Skoda Fabia Classic'\n",
      " 'Maruti Suzuki Stingray' 'Hyundai Elite i20' 'Mahindra Scorpio SLE'\n",
      " 'Audi A8' 'Audi Q7' 'Mahindra Scorpio S10' 'Hyundai i20 Sportz'\n",
      " 'Maruti Suzuki Vitara' 'Mahindra Bolero DI' 'Maruti Suzuki Swift'\n",
      " 'Maruti Suzuki Wagon' 'Toyota Innova 2.0' 'Renault Lodgy 85'\n",
      " 'Skoda Yeti Ambition' 'Maruti Suzuki Baleno' 'Renault Duster 110'\n",
      " 'Renault Duster 85' 'Honda City 1.5' 'Maruti Suzuki Dzire' 'Honda Amaze'\n",
      " 'Honda Amaze 1.5' 'Honda City' 'Datsun Redi GO' 'Maruti Suzuki SX4'\n",
      " 'Mitsubishi Pajero Sport' 'Honda City ZX' 'Tata Indigo eCS'\n",
      " 'Volkswagen Polo Highline' 'Chevrolet Spark LS' 'Renault Duster 110PS'\n",
      " 'Mini Cooper S' 'Skoda Fabia 1.2L' 'Renault Duster' 'Mahindra Scorpio S4'\n",
      " 'Mahindra Scorpio VLX' 'Mahindra Quanto C8' 'Ford EcoSport' 'Honda Brio'\n",
      " 'Volkswagen Vento Highline' 'Hyundai i20 Magna' 'Toyota Corolla Altis'\n",
      " 'Hyundai Verna Transform' 'BMW 3 Series' 'Maruti Suzuki A'\n",
      " 'Toyota Etios GD' 'Ford Figo Diesel' 'Chevrolet Beat LT' 'BMW 7 Series'\n",
      " 'Mahindra XUV500 W8' 'Hyundai i10 Magna' 'Hyundai Verna Fluidic'\n",
      " 'Maruti Suzuki Ertiga' 'Honda Amaze 1.2' 'Hyundai i20 Asta'\n",
      " 'Maruti Suzuki Eeco' 'Maruti Suzuki Esteem' 'Maruti Suzuki Ritz'\n",
      " 'Toyota Etios Liva' 'Chevrolet Spark' 'Nissan Micra XV' 'Chevrolet Beat'\n",
      " 'Ford EcoSport Trend' 'Tata Indica V2' 'Hindustan Motors Ambassador'\n",
      " 'Toyota Innova 2.5' 'Volkswagen Jetta Highline'\n",
      " 'Volkswagen Polo Comfortline' 'Volkswagen Polo' 'Mahindra Scorpio'\n",
      " 'Nissan Sunny' 'Renault Kwid' 'Chevrolet Spark LT' 'Fiat Punto Emotion'\n",
      " 'Hyundai i10 Sportz' 'Chevrolet Beat LS' 'Tata Indigo CS'\n",
      " 'Hyundai Eon Era' 'Mahindra XUV500' 'Ford Fiesta' 'Hyundai i20'\n",
      " 'Hyundai Fluidic Verna' 'Fiat Petra ELX' 'Maruti Suzuki Ciaz'\n",
      " 'Maruti Suzuki Zen' 'Hyundai Creta 1.6' 'Mahindra Scorpio SLX'\n",
      " 'Tata Nano Cx' 'Tata Sumo Victa' 'Volkswagen Passat Diesel'\n",
      " 'Renault Scala RxL' 'Hyundai i20 Active' 'Mahindra Xylo E4'\n",
      " 'Mahindra Jeep MM' 'Mahindra Bolero SLE' 'Force Motors Force'\n",
      " 'Toyota Etios' 'Honda City VX' 'Mahindra Thar CRDe' 'Audi A4 1.8'\n",
      " 'Mercedes Benz GLA' 'Land Rover Freelander' 'Renault Kwid RXT'\n",
      " 'Tata Aria Pleasure' 'Mercedes Benz B' 'Datsun GO T' 'Honda Jazz VX'\n",
      " 'Chevrolet Tavera Neo' 'Hyundai Eon Sportz' 'Tata Sumo Gold'\n",
      " 'Chevrolet Enjoy 1.4' 'Nissan Terrano XL' 'Maruti Suzuki Maruti'\n",
      " 'Renault Kwid 1.0' 'Hyundai Accent GLX' 'Mahindra TUV300 T4'\n",
      " 'Honda Accord' 'Mahindra Scorpio 2.6' 'Honda Mobilio' 'Skoda Laura'\n",
      " 'Tata Manza Aura' 'Chevrolet Sail UVA' 'Audi A4 2.0' 'Hyundai Elantra SX'\n",
      " 'Mahindra KUV100 K8' 'Hyundai i10' 'Hyundai Accent' 'Hyundai Verna'\n",
      " 'Toyota Fortuner' 'Mahindra Bolero Power' 'Skoda Rapid Elegance'\n",
      " 'Tata Vista Quadrajet' 'Chevrolet Beat Diesel' 'Hyundai Verna 1.4'\n",
      " 'Maruti Suzuki Versa' 'Tata Indigo LX' 'Volkswagen Vento Konekt'\n",
      " 'Mercedes Benz C' 'Maruti Suzuki Omni' 'Hyundai Sonata Transform'\n",
      " 'Honda Jazz S' 'Mahindra Scorpio W' 'Honda Brio V' 'Mahindra TUV300 T8'\n",
      " 'Nissan X Trail' 'Ford Ikon 1.3' 'Toyota Fortuner 3.0' 'Tata Manza ELAN'\n",
      " 'Mercedes Benz A' 'Tata Indigo LS' 'Hyundai Verna 1.6' 'BMW 5 Series'\n",
      " 'Skoda Superb 1.8' 'Audi Q3 2.0' 'Ford Figo Duratorq'\n",
      " 'Mahindra Logan Diesel' 'Tata Nano GenX' 'Honda City SV'\n",
      " 'Ford Figo Petrol' 'Toyota Corolla H2' 'Hyundai Xcent Base'\n",
      " 'Hyundai Accent Executive' 'Tata Zest XE' 'Mahindra XUV500 W6'\n",
      " 'Tata Tigor Revotron' 'Maruti Suzuki 800' 'Honda Mobilio S' 'Tata Indica'\n",
      " 'Honda Brio VX' 'Tata Nano Lx' 'Jaguar XE XE' 'Hyundai Eon Magna'\n",
      " 'Hyundai Eon D' 'Maruti Suzuki Estilo' 'Mahindra Scorpio Vlx'\n",
      " 'Mitsubishi Lancer 1.8' 'Ford Fiesta SXi' 'Audi A6 2.0'\n",
      " 'Hyundai Getz Prime' 'Hyundai Santro' 'Chevrolet Beat PS'\n",
      " 'BMW X1 xDrive20d' 'Tata Nano' 'Chevrolet Cruze LTZ'\n",
      " 'Mahindra XUV500 W10' 'Hyundai Accent GLE' 'Force Motors One'\n",
      " 'Chevrolet Spark 1.0' 'Renault Duster 85PS' 'Chevrolet Enjoy'\n",
      " 'Jeep Wrangler Unlimited' 'Hyundai Verna VGT' 'Maruti Suzuki Celerio'\n",
      " 'Tata Zest Quadrajet' 'Hyundai i10 Era' 'Tata Indigo Marina'\n",
      " 'Hyundai Xcent SX' 'Tata Nano LX' 'Mahindra Xylo E8' 'Tata Manza Aqua'\n",
      " 'Tata Venture EX' 'Skoda Octavia Classic' 'Ford Ikon 1.6'\n",
      " 'Nissan Sunny XL' 'Volkswagen Polo Trendline' 'Hyundai Elantra 1.8'\n",
      " 'Tata Indica eV2' 'Jaguar XF 2.2' 'Audi Q5 2.0' 'BMW X1 sDrive20d'\n",
      " 'Maruti Suzuki S' 'Volkswagen Vento Comfortline' 'Mahindra KUV100'\n",
      " 'Volkswagen Jetta Comfortline' 'Volvo S80 Summum' 'BMW X1'\n",
      " 'Renault Duster RxL' 'Honda WR V' 'Mahindra Scorpio LX'\n",
      " 'Audi A3 Cabriolet' 'Hyundai Santro AE' 'Mahindra Xylo D2'\n",
      " 'Hyundai Getz GLE' 'Nissan Micra XL' 'Chevrolet Tavera LS'\n",
      " 'Tata Tiago Revotron' 'Tata Tiago Revotorq' 'Ford Fusion 1.4'\n",
      " 'Fiat Linea Emotion' 'Toyota Corolla' 'Tata Sumo Grande'\n",
      " 'Volkswagen Polo Highline1.2L' 'Hyundai Creta' 'Tata Bolt XM'\n",
      " 'Datsun Go Plus' 'Ford Endeavor 4x4' 'Mahindra Logan'\n",
      " 'Chevrolet Sail 1.2' 'Tata Manza' 'Toyota Etios G' 'Toyota Qualis'\n",
      " 'Mahindra Quanto C4' 'Hyundai i20 Select' 'Hyundai Getz' 'Skoda Fabia'\n",
      " 'Tata Zest XM']\n",
      "\n",
      "company\n",
      "['Hyundai' 'Mahindra' 'Ford' 'Maruti' 'Skoda' 'Audi' 'Toyota' 'Renault'\n",
      " 'Honda' 'Datsun' 'Mitsubishi' 'Tata' 'Volkswagen' 'Chevrolet' 'Mini'\n",
      " 'BMW' 'Nissan' 'Hindustan' 'Fiat' 'Force' 'Mercedes' 'Land' 'Jaguar'\n",
      " 'Jeep' 'Volvo']\n",
      "\n",
      "year\n",
      "[2007 2006 2014 2012 2013 2016 2015 2010 2017 2008 2018 2011 2019 2009\n",
      " 2005 2000 2003 2004 1995 2002 2001]\n",
      "\n",
      "kms_driven\n",
      "[ 45000     40  28000  36000  41000  25000  24530  60000  30000  32000\n",
      "  48660   4000  16934  43000  35550  39522  39000  55000  72000  15975\n",
      "  70000  23452  35522  48508  15487  82000  20000  68000  38000  27000\n",
      "  33000  46000  16000  47000  35000  30874  15000  29685 130000  19000\n",
      "  54000  13000  38200  22000  50000  13500   3600  45863  60500  12500\n",
      "  18000  13349  29000  44000  42000  14000  49000  36200  51000 104000\n",
      "  33333  33600   5600   7500  24330  65480 200000  59000  99000   2800\n",
      "  21000  11000  66000   3000   7000  38500  37200  43200  24800  45872\n",
      "  40000  11400  97200  52000  31000 175430  37000  65000   3350  75000\n",
      "  62000  73000   2200  54870  34580  97000     60  80200   3200      0\n",
      "   5000    588  71200 175400   9300  56758  10000  56450  56000  32700\n",
      "   9000     73 160000  58559  57000 170000  80000   6821  23000  34000\n",
      "   1800 400000  48000  90000  12000  69900 166000    122  36469   7800\n",
      "  24695  15141  59910 100000   4500 129000    300 131000 111111  59466\n",
      "  25500  44005   2110  43222 100200     65 140000 103553  58000 120000\n",
      "  49800    100  81876   6020  55700  18500  53000  35500  22134   1000\n",
      "   8500  87000   6000   8000  55800  56400  72160  11500 133000   2000\n",
      "  88000  65422 117000 150000  10750   6800   9800  57923  30201   6200\n",
      "  37518  24652    383  95000   3528  52500  47900  52800 195000  48008\n",
      "  48247   9400  64000   2137  10544 147000  90001  48006  74000  85000\n",
      "  29500  39700  67000  19336  60105  45933 102563  28600  41800 116000\n",
      "  42590   7400  54500  76000  11523  38600  95500  37458  85960  12516\n",
      "  30600   2550  62500  69000  28400  68485   3500  85455  63000   1600\n",
      "  77000  26500   2875  13900   1500   2450   1625  33400  60123 137495\n",
      "  91200 146000 100800   2100   2500 132000]\n",
      "\n",
      "fuel_type\n",
      "['Petrol' 'Diesel' 'LPG']\n",
      "\n"
     ]
    }
   ],
   "source": [
    "x.columns\n",
    "for i in x.columns:\n",
    "    print(i)\n",
    "    print(x[i].unique())\n",
    "    print('')"
   ]
  },
  {
   "cell_type": "code",
   "execution_count": 28,
   "metadata": {},
   "outputs": [
    {
     "data": {
      "text/plain": [
       "OneHotEncoder()"
      ]
     },
     "execution_count": 28,
     "metadata": {},
     "output_type": "execute_result"
    }
   ],
   "source": [
    "# Hence one hot encoding is to be done on 'name' , 'company' , 'fuel_type'\n",
    "ohe = OneHotEncoder()\n",
    "ohe.fit(x[['name','company','fuel_type']])"
   ]
  },
  {
   "cell_type": "code",
   "execution_count": 29,
   "metadata": {},
   "outputs": [],
   "source": [
    "column_trans = make_column_transformer((OneHotEncoder(categories=ohe.categories_),['name','company','fuel_type']),remainder='passthrough')"
   ]
  },
  {
   "cell_type": "code",
   "execution_count": 30,
   "metadata": {},
   "outputs": [
    {
     "data": {
      "text/plain": [
       "ColumnTransformer(remainder='passthrough',\n",
       "                  transformers=[('onehotencoder',\n",
       "                                 OneHotEncoder(categories=[array(['Audi A3 Cabriolet', 'Audi A4 1.8', 'Audi A4 2.0', 'Audi A6 2.0',\n",
       "       'Audi A8', 'Audi Q3 2.0', 'Audi Q5 2.0', 'Audi Q7', 'BMW 3 Series',\n",
       "       'BMW 5 Series', 'BMW 7 Series', 'BMW X1', 'BMW X1 sDrive20d',\n",
       "       'BMW X1 xDrive20d', 'Chevrolet Beat', 'Chevrolet Beat Diesel',\n",
       "       'Chevrolet Beat LS', 'Chevrolet B...\n",
       "       'Volkswagen Vento Konekt', 'Volvo S80 Summum'], dtype=object),\n",
       "                                                           array(['Audi', 'BMW', 'Chevrolet', 'Datsun', 'Fiat', 'Force', 'Ford',\n",
       "       'Hindustan', 'Honda', 'Hyundai', 'Jaguar', 'Jeep', 'Land',\n",
       "       'Mahindra', 'Maruti', 'Mercedes', 'Mini', 'Mitsubishi', 'Nissan',\n",
       "       'Renault', 'Skoda', 'Tata', 'Toyota', 'Volkswagen', 'Volvo'],\n",
       "      dtype=object),\n",
       "                                                           array(['Diesel', 'LPG', 'Petrol'], dtype=object)]),\n",
       "                                 ['name', 'company', 'fuel_type'])])"
      ]
     },
     "execution_count": 30,
     "metadata": {},
     "output_type": "execute_result"
    }
   ],
   "source": [
    "column_trans"
   ]
  },
  {
   "cell_type": "code",
   "execution_count": 31,
   "metadata": {},
   "outputs": [],
   "source": [
    "#pd.get_dummies(data,columns=['name','company','fuel_type'])"
   ]
  },
  {
   "cell_type": "code",
   "execution_count": 32,
   "metadata": {},
   "outputs": [
    {
     "data": {
      "text/plain": [
       "Pipeline(steps=[('columntransformer',\n",
       "                 ColumnTransformer(remainder='passthrough',\n",
       "                                   transformers=[('onehotencoder',\n",
       "                                                  OneHotEncoder(categories=[array(['Audi A3 Cabriolet', 'Audi A4 1.8', 'Audi A4 2.0', 'Audi A6 2.0',\n",
       "       'Audi A8', 'Audi Q3 2.0', 'Audi Q5 2.0', 'Audi Q7', 'BMW 3 Series',\n",
       "       'BMW 5 Series', 'BMW 7 Series', 'BMW X1', 'BMW X1 sDrive20d',\n",
       "       'BMW X1 xDrive20d', 'Chevrolet Beat', 'Chevrolet Beat...\n",
       "                                                                            array(['Audi', 'BMW', 'Chevrolet', 'Datsun', 'Fiat', 'Force', 'Ford',\n",
       "       'Hindustan', 'Honda', 'Hyundai', 'Jaguar', 'Jeep', 'Land',\n",
       "       'Mahindra', 'Maruti', 'Mercedes', 'Mini', 'Mitsubishi', 'Nissan',\n",
       "       'Renault', 'Skoda', 'Tata', 'Toyota', 'Volkswagen', 'Volvo'],\n",
       "      dtype=object),\n",
       "                                                                            array(['Diesel', 'LPG', 'Petrol'], dtype=object)]),\n",
       "                                                  ['name', 'company',\n",
       "                                                   'fuel_type'])])),\n",
       "                ('linearregression', LinearRegression())])"
      ]
     },
     "execution_count": 32,
     "metadata": {},
     "output_type": "execute_result"
    }
   ],
   "source": [
    "Linear_R = LinearRegression()\n",
    "pipe=make_pipeline(column_trans,Linear_R)\n",
    "pipe.fit(x_train,y_train)\n"
   ]
  },
  {
   "cell_type": "code",
   "execution_count": 33,
   "metadata": {},
   "outputs": [
    {
     "data": {
      "text/plain": [
       "array([ 415181.61986049,  126671.01803165, 1357247.62760974,\n",
       "        221103.81870918,  241317.28049462,  310793.77427001,\n",
       "       1455390.1047359 ,  552662.91791853,  156213.42936495,\n",
       "         98531.27437425,  816769.04497673,  241634.00912844,\n",
       "        441189.72074446,  230942.56019696,  242379.74738939,\n",
       "        278300.69797364,  481117.36359125, 1258163.56391453,\n",
       "        407493.7895094 ,  170691.73433236,  277968.13496658,\n",
       "        262651.09037718,  416822.14277098,  894599.10203253,\n",
       "        119598.69486085,  308072.47652213,  368097.29260857,\n",
       "        258059.11623191,  570276.24317925,  334444.33985575,\n",
       "        257322.94548266,  442195.53620933,  141420.52916153,\n",
       "        230843.50409904,  184583.58573498,  269674.1153293 ,\n",
       "        208216.89631302,   41405.16715731,  526524.39456544,\n",
       "        435753.82278197,  202667.34539589,  180487.39303623,\n",
       "        268560.17005283,   19808.67112334,  187225.35750481,\n",
       "        -11900.92785267,  437705.79632439,  236897.91940083,\n",
       "        358240.99353623,  351063.24218969,  290950.87946479,\n",
       "        360003.38768279,  347478.94077449,  536815.12612358,\n",
       "        397970.3694302 ,  460295.20255388,  157181.43338666,\n",
       "        514976.94250577,   26001.54968334,  450431.15981022,\n",
       "        445927.93087462,  295922.53054833,  572602.73553476,\n",
       "        158009.61966618,  824533.99265474,  699760.71368982,\n",
       "        225025.52729848,  -59846.75280439,  739231.09317089,\n",
       "        323461.31358773,  222644.71121441,  451764.24447273,\n",
       "       1057322.87549517,  154572.7929863 ,  260411.40466172,\n",
       "        563855.64503125,  536131.42550088,  531421.32589294,\n",
       "        445896.09930011,  227147.51411504,  771917.44154159,\n",
       "        307333.88934793,  267387.18010479,  447184.41214028,\n",
       "        363317.10601208,  360848.27866896,  241752.79206807,\n",
       "        406367.69120192,  417162.45884243,  175596.46216555,\n",
       "        291376.07507675,   50579.98334397,  158364.68062682,\n",
       "       1892216.51950425,   90156.34615916,  461036.8606829 ,\n",
       "        350401.008904  ,  154219.5542758 ,  377489.76960251,\n",
       "         54673.1086484 ,  222370.15653995,  616068.62653019,\n",
       "        842005.62679625,  329127.61524101,  194159.9338975 ,\n",
       "         53405.86144315,  648814.63952103,  500212.22632457,\n",
       "        218813.1256376 ,  246201.28999829,  410332.7237403 ,\n",
       "        518119.61973674,  842005.62679625,  190906.16757973,\n",
       "        360848.27866896,  220394.1314197 ,  317409.37897631,\n",
       "       1479706.41124746,  390239.81336744,  391366.67125817,\n",
       "        547848.37493471,  547602.01435248,  100443.9752035 ,\n",
       "        362012.36183364,  214284.13709588,  225801.61867977,\n",
       "        237180.32877135,  251866.54518829,  165320.95313037,\n",
       "        437936.84958563,  258982.91501129,  187162.3853745 ,\n",
       "        179363.38023691,  244022.69327047,  555445.89785446,\n",
       "        406366.36826955,  367575.20379188,  239942.98806894,\n",
       "        555445.89785446,  236460.46932226,  995238.48816242,\n",
       "        204155.93883514,  154572.7929863 ,  132820.744815  ,\n",
       "        612912.33668949,   26853.27763556,  265349.05847629,\n",
       "        256216.67749536,  269674.1153293 ,  204395.14558616,\n",
       "        473863.20252036,  346050.45112405,  332716.51352421,\n",
       "        573757.31003878,  218911.11715697,  289203.49988497,\n",
       "        584125.33373526,  170796.83012374,  288480.77175629,\n",
       "        112521.51092249,  149276.09709635,  691969.06941078,\n",
       "        496340.61771458])"
      ]
     },
     "execution_count": 33,
     "metadata": {},
     "output_type": "execute_result"
    }
   ],
   "source": [
    "y_pred=pipe.predict(x_test)\n",
    "y_pred"
   ]
  },
  {
   "cell_type": "code",
   "execution_count": 34,
   "metadata": {},
   "outputs": [
    {
     "data": {
      "text/plain": [
       "0.7834203404246282"
      ]
     },
     "execution_count": 34,
     "metadata": {},
     "output_type": "execute_result"
    }
   ],
   "source": [
    "# Checking r2 score\n",
    "r2_score(y_test,y_pred)"
   ]
  },
  {
   "cell_type": "markdown",
   "metadata": {},
   "source": [
    "It is observed that the r2_score value is changing everytime we run train_test split so we will add random state to it."
   ]
  },
  {
   "cell_type": "code",
   "execution_count": 35,
   "metadata": {},
   "outputs": [],
   "source": [
    "score=[]\n",
    "for i in range(500):\n",
    "    x_train,x_test,y_train,y_test=train_test_split(x,y,test_size=0.2,random_state= i )\n",
    "    Linear_R = LinearRegression()\n",
    "    pipe=make_pipeline(column_trans,Linear_R)\n",
    "    pipe.fit(x_train,y_train)\n",
    "    y_pred=pipe.predict(x_test)\n",
    "    score.append(r2_score(y_test,y_pred))"
   ]
  },
  {
   "cell_type": "code",
   "execution_count": 36,
   "metadata": {},
   "outputs": [
    {
     "data": {
      "text/plain": [
       "0.8894510585615059"
      ]
     },
     "execution_count": 36,
     "metadata": {},
     "output_type": "execute_result"
    }
   ],
   "source": [
    "max(score)"
   ]
  },
  {
   "cell_type": "code",
   "execution_count": 37,
   "metadata": {},
   "outputs": [
    {
     "data": {
      "text/plain": [
       "124"
      ]
     },
     "execution_count": 37,
     "metadata": {},
     "output_type": "execute_result"
    }
   ],
   "source": [
    "index = score.index(max(score))\n",
    "index"
   ]
  },
  {
   "cell_type": "code",
   "execution_count": 38,
   "metadata": {},
   "outputs": [
    {
     "data": {
      "text/plain": [
       "0.8894510585615059"
      ]
     },
     "execution_count": 38,
     "metadata": {},
     "output_type": "execute_result"
    }
   ],
   "source": [
    "#So at random_state 124, we are getting highest correlation\n",
    "x_train,x_test,y_train,y_test=train_test_split(x,y,test_size=0.2,random_state= 124 )\n",
    "Linear_R = LinearRegression()\n",
    "pipe=make_pipeline(column_trans,Linear_R)\n",
    "pipe.fit(x_train,y_train)\n",
    "y_pred=pipe.predict(x_test)\n",
    "r2_score(y_test,y_pred)"
   ]
  },
  {
   "cell_type": "code",
   "execution_count": 39,
   "metadata": {},
   "outputs": [
    {
     "name": "stdout",
     "output_type": "stream",
     "text": [
      "Requirement already satisfied: pickle-mixin in c:\\users\\meera\\anaconda3\\lib\\site-packages (1.0.2)\n"
     ]
    }
   ],
   "source": [
    "!pip install pickle-mixin"
   ]
  },
  {
   "cell_type": "code",
   "execution_count": 40,
   "metadata": {},
   "outputs": [],
   "source": [
    "import pickle"
   ]
  },
  {
   "cell_type": "code",
   "execution_count": 41,
   "metadata": {},
   "outputs": [],
   "source": [
    "#pickle.dump(pipe,open('Car_price.pkl','wb'))"
   ]
  },
  {
   "cell_type": "code",
   "execution_count": 42,
   "metadata": {},
   "outputs": [],
   "source": [
    "#pipe.predict(pd.DataFrame([['Maruti Suzuki Wagon','Maruti',2017,27000,'Petrol']],columns=['name','company','year','kms_driven','fuel_type']))"
   ]
  }
 ],
 "metadata": {
  "kernelspec": {
   "display_name": "Python 3",
   "language": "python",
   "name": "python3"
  },
  "language_info": {
   "codemirror_mode": {
    "name": "ipython",
    "version": 3
   },
   "file_extension": ".py",
   "mimetype": "text/x-python",
   "name": "python",
   "nbconvert_exporter": "python",
   "pygments_lexer": "ipython3",
   "version": "3.7.4"
  }
 },
 "nbformat": 4,
 "nbformat_minor": 2
}
